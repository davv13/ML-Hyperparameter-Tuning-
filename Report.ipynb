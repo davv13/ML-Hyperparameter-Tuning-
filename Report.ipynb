{
 "cells": [
  {
   "attachments": {},
   "cell_type": "markdown",
   "metadata": {},
   "source": [
    "### Import Necessary Libraries"
   ]
  },
  {
   "cell_type": "code",
   "execution_count": 80,
   "metadata": {},
   "outputs": [],
   "source": [
    "import numpy as np\n",
    "import pandas as pd\n",
    "import matplotlib.pyplot as plt\n",
    "import seaborn as sns \n",
    "import xlrd\n",
    "from sklearn.model_selection import train_test_split, cross_val_score\n",
    "import xgboost as xgb \n",
    "from sklearn.metrics import accuracy_score, precision_score, recall_score, f1_score, roc_auc_score\n",
    "import math\n",
    "import random\n",
    "from utils import * "
   ]
  },
  {
   "attachments": {},
   "cell_type": "markdown",
   "metadata": {},
   "source": [
    "# Part 1"
   ]
  },
  {
   "attachments": {},
   "cell_type": "markdown",
   "metadata": {},
   "source": [
    "### Read the dataset"
   ]
  },
  {
   "cell_type": "code",
   "execution_count": 81,
   "metadata": {},
   "outputs": [],
   "source": [
    "data = pd.read_excel('Titanic_dataset.xls')"
   ]
  },
  {
   "attachments": {},
   "cell_type": "markdown",
   "metadata": {},
   "source": [
    "### Check for missing values"
   ]
  },
  {
   "cell_type": "code",
   "execution_count": 82,
   "metadata": {},
   "outputs": [
    {
     "name": "stdout",
     "output_type": "stream",
     "text": [
      "pclass          0\n",
      "survived        0\n",
      "name            0\n",
      "sex             0\n",
      "age           263\n",
      "sibsp           0\n",
      "parch           0\n",
      "ticket          0\n",
      "fare            1\n",
      "cabin        1014\n",
      "embarked        2\n",
      "boat          823\n",
      "body         1188\n",
      "home.dest     564\n",
      "dtype: int64\n"
     ]
    }
   ],
   "source": [
    "na_value = data.isna()\n",
    "na_counts = na_value.sum()\n",
    "print(na_counts)"
   ]
  },
  {
   "attachments": {},
   "cell_type": "markdown",
   "metadata": {},
   "source": [
    "### Let's drop irrelevant columns, handle missing values and perform one-hot encoding for categorical variables"
   ]
  },
  {
   "cell_type": "code",
   "execution_count": 83,
   "metadata": {},
   "outputs": [],
   "source": [
    "columns_to_drop = ['name', 'ticket', 'cabin', 'boat', 'body', 'home.dest']\n",
    "data = data.drop(columns_to_drop, axis=1)\n",
    "\n",
    "data['age'].fillna(data['age'].median(), inplace=True)\n",
    "data['fare'].fillna(data['fare'].mean(), inplace=True)\n",
    "data['embarked'].fillna(data['embarked'].mode()[0], inplace=True)\n",
    "\n",
    "data = pd.get_dummies(data, columns=['sex', 'embarked'])"
   ]
  },
  {
   "attachments": {},
   "cell_type": "markdown",
   "metadata": {},
   "source": [
    "# Part 2"
   ]
  },
  {
   "cell_type": "code",
   "execution_count": 84,
   "metadata": {},
   "outputs": [],
   "source": [
    "X = data.drop('survived', axis=1)\n",
    "y = data['survived']\n",
    "\n",
    "X_trainval, X_test, y_trainval, y_test = train_test_split(X, y, test_size=0.2, random_state=42)\n",
    "X_train, X_val, y_train, y_val = train_test_split(X_trainval, y_trainval, test_size=0.2, random_state=42) "
   ]
  },
  {
   "attachments": {},
   "cell_type": "markdown",
   "metadata": {},
   "source": [
    "### Choose a gradient boosting model library and initialize the model with default hyperparameters. "
   ]
  },
  {
   "cell_type": "code",
   "execution_count": 49,
   "metadata": {},
   "outputs": [],
   "source": [
    "model = xgb.XGBClassifier()"
   ]
  },
  {
   "attachments": {},
   "cell_type": "markdown",
   "metadata": {},
   "source": [
    "### Define the hyperparameter search space based on the available hyperparameters of the chosen model."
   ]
  },
  {
   "cell_type": "code",
   "execution_count": 61,
   "metadata": {},
   "outputs": [],
   "source": [
    "learning_rates = [0.01, 0.1, 0.2]\n",
    "n_estimators = [100, 200, 300]\n",
    "max_depths = [3, 5, 7]\n",
    "reg_alphas = [0, 0.1, 0.5]\n",
    "\n",
    "param_space = []\n",
    "\n",
    "for lr in learning_rates:\n",
    "    for ne in n_estimators:\n",
    "        for md in max_depths:\n",
    "            for ra in reg_alphas:\n",
    "                config = {'learning_rate': lr, 'n_estimators': ne, 'max_depth': md, 'reg_alpha': ra}\n",
    "                param_space.append(config)\n"
   ]
  },
  {
   "attachments": {},
   "cell_type": "markdown",
   "metadata": {},
   "source": [
    "### Implement the UCB algorithm to select hyperparameters based on past performance.  "
   ]
  },
  {
   "cell_type": "code",
   "execution_count": 62,
   "metadata": {},
   "outputs": [],
   "source": [
    "def ucb_selection(rewards, attempts, t):\n",
    "    n_configs = len(rewards)\n",
    "    ucb_values = []\n",
    "    \n",
    "    for i in range(n_configs):\n",
    "        if attempts[i] == 0:\n",
    "            ucb_values.append(float('inf'))  # Assign a high value to unexplored configurations\n",
    "        else:\n",
    "            ucb_values.append(rewards[i] + math.sqrt(2 * math.log(t) / (attempts[i] + 1e-8)))  # Add epsilon value\n",
    "        \n",
    "    best_config = max(range(n_configs), key=lambda x: ucb_values[x])\n",
    "    return best_config"
   ]
  },
  {
   "attachments": {},
   "cell_type": "markdown",
   "metadata": {},
   "source": [
    "### Perform the hyperparameter tuning loop using the UCB algorithm."
   ]
  },
  {
   "cell_type": "code",
   "execution_count": 75,
   "metadata": {},
   "outputs": [
    {
     "name": "stdout",
     "output_type": "stream",
     "text": [
      "config_idx: 0\n",
      "config: {'learning_rate': 0.01, 'n_estimators': 100, 'max_depth': 3, 'reg_alpha': 0}\n",
      "config_idx: 1\n",
      "config: {'learning_rate': 0.01, 'n_estimators': 100, 'max_depth': 3, 'reg_alpha': 0.1}\n",
      "config_idx: 2\n",
      "config: {'learning_rate': 0.01, 'n_estimators': 100, 'max_depth': 3, 'reg_alpha': 0.5}\n",
      "config_idx: 3\n",
      "config: {'learning_rate': 0.01, 'n_estimators': 100, 'max_depth': 5, 'reg_alpha': 0}\n",
      "config_idx: 4\n",
      "config: {'learning_rate': 0.01, 'n_estimators': 100, 'max_depth': 5, 'reg_alpha': 0.1}\n",
      "config_idx: 5\n",
      "config: {'learning_rate': 0.01, 'n_estimators': 100, 'max_depth': 5, 'reg_alpha': 0.5}\n",
      "config_idx: 6\n",
      "config: {'learning_rate': 0.01, 'n_estimators': 100, 'max_depth': 7, 'reg_alpha': 0}\n",
      "config_idx: 7\n",
      "config: {'learning_rate': 0.01, 'n_estimators': 100, 'max_depth': 7, 'reg_alpha': 0.1}\n",
      "config_idx: 8\n",
      "config: {'learning_rate': 0.01, 'n_estimators': 100, 'max_depth': 7, 'reg_alpha': 0.5}\n",
      "config_idx: 9\n",
      "config: {'learning_rate': 0.01, 'n_estimators': 200, 'max_depth': 3, 'reg_alpha': 0}\n",
      "config_idx: 10\n",
      "config: {'learning_rate': 0.01, 'n_estimators': 200, 'max_depth': 3, 'reg_alpha': 0.1}\n",
      "config_idx: 11\n",
      "config: {'learning_rate': 0.01, 'n_estimators': 200, 'max_depth': 3, 'reg_alpha': 0.5}\n",
      "config_idx: 12\n",
      "config: {'learning_rate': 0.01, 'n_estimators': 200, 'max_depth': 5, 'reg_alpha': 0}\n",
      "config_idx: 13\n",
      "config: {'learning_rate': 0.01, 'n_estimators': 200, 'max_depth': 5, 'reg_alpha': 0.1}\n",
      "config_idx: 14\n",
      "config: {'learning_rate': 0.01, 'n_estimators': 200, 'max_depth': 5, 'reg_alpha': 0.5}\n",
      "config_idx: 15\n",
      "config: {'learning_rate': 0.01, 'n_estimators': 200, 'max_depth': 7, 'reg_alpha': 0}\n",
      "config_idx: 16\n",
      "config: {'learning_rate': 0.01, 'n_estimators': 200, 'max_depth': 7, 'reg_alpha': 0.1}\n",
      "config_idx: 17\n",
      "config: {'learning_rate': 0.01, 'n_estimators': 200, 'max_depth': 7, 'reg_alpha': 0.5}\n",
      "config_idx: 18\n",
      "config: {'learning_rate': 0.01, 'n_estimators': 300, 'max_depth': 3, 'reg_alpha': 0}\n",
      "config_idx: 19\n",
      "config: {'learning_rate': 0.01, 'n_estimators': 300, 'max_depth': 3, 'reg_alpha': 0.1}\n",
      "config_idx: 20\n",
      "config: {'learning_rate': 0.01, 'n_estimators': 300, 'max_depth': 3, 'reg_alpha': 0.5}\n",
      "config_idx: 21\n",
      "config: {'learning_rate': 0.01, 'n_estimators': 300, 'max_depth': 5, 'reg_alpha': 0}\n",
      "config_idx: 22\n",
      "config: {'learning_rate': 0.01, 'n_estimators': 300, 'max_depth': 5, 'reg_alpha': 0.1}\n",
      "config_idx: 23\n",
      "config: {'learning_rate': 0.01, 'n_estimators': 300, 'max_depth': 5, 'reg_alpha': 0.5}\n",
      "config_idx: 24\n",
      "config: {'learning_rate': 0.01, 'n_estimators': 300, 'max_depth': 7, 'reg_alpha': 0}\n",
      "config_idx: 25\n",
      "config: {'learning_rate': 0.01, 'n_estimators': 300, 'max_depth': 7, 'reg_alpha': 0.1}\n",
      "config_idx: 26\n",
      "config: {'learning_rate': 0.01, 'n_estimators': 300, 'max_depth': 7, 'reg_alpha': 0.5}\n",
      "config_idx: 27\n",
      "config: {'learning_rate': 0.1, 'n_estimators': 100, 'max_depth': 3, 'reg_alpha': 0}\n",
      "config_idx: 28\n",
      "config: {'learning_rate': 0.1, 'n_estimators': 100, 'max_depth': 3, 'reg_alpha': 0.1}\n",
      "config_idx: 29\n",
      "config: {'learning_rate': 0.1, 'n_estimators': 100, 'max_depth': 3, 'reg_alpha': 0.5}\n"
     ]
    },
    {
     "data": {
      "text/html": [
       "<style>#sk-container-id-3 {color: black;background-color: white;}#sk-container-id-3 pre{padding: 0;}#sk-container-id-3 div.sk-toggleable {background-color: white;}#sk-container-id-3 label.sk-toggleable__label {cursor: pointer;display: block;width: 100%;margin-bottom: 0;padding: 0.3em;box-sizing: border-box;text-align: center;}#sk-container-id-3 label.sk-toggleable__label-arrow:before {content: \"▸\";float: left;margin-right: 0.25em;color: #696969;}#sk-container-id-3 label.sk-toggleable__label-arrow:hover:before {color: black;}#sk-container-id-3 div.sk-estimator:hover label.sk-toggleable__label-arrow:before {color: black;}#sk-container-id-3 div.sk-toggleable__content {max-height: 0;max-width: 0;overflow: hidden;text-align: left;background-color: #f0f8ff;}#sk-container-id-3 div.sk-toggleable__content pre {margin: 0.2em;color: black;border-radius: 0.25em;background-color: #f0f8ff;}#sk-container-id-3 input.sk-toggleable__control:checked~div.sk-toggleable__content {max-height: 200px;max-width: 100%;overflow: auto;}#sk-container-id-3 input.sk-toggleable__control:checked~label.sk-toggleable__label-arrow:before {content: \"▾\";}#sk-container-id-3 div.sk-estimator input.sk-toggleable__control:checked~label.sk-toggleable__label {background-color: #d4ebff;}#sk-container-id-3 div.sk-label input.sk-toggleable__control:checked~label.sk-toggleable__label {background-color: #d4ebff;}#sk-container-id-3 input.sk-hidden--visually {border: 0;clip: rect(1px 1px 1px 1px);clip: rect(1px, 1px, 1px, 1px);height: 1px;margin: -1px;overflow: hidden;padding: 0;position: absolute;width: 1px;}#sk-container-id-3 div.sk-estimator {font-family: monospace;background-color: #f0f8ff;border: 1px dotted black;border-radius: 0.25em;box-sizing: border-box;margin-bottom: 0.5em;}#sk-container-id-3 div.sk-estimator:hover {background-color: #d4ebff;}#sk-container-id-3 div.sk-parallel-item::after {content: \"\";width: 100%;border-bottom: 1px solid gray;flex-grow: 1;}#sk-container-id-3 div.sk-label:hover label.sk-toggleable__label {background-color: #d4ebff;}#sk-container-id-3 div.sk-serial::before {content: \"\";position: absolute;border-left: 1px solid gray;box-sizing: border-box;top: 0;bottom: 0;left: 50%;z-index: 0;}#sk-container-id-3 div.sk-serial {display: flex;flex-direction: column;align-items: center;background-color: white;padding-right: 0.2em;padding-left: 0.2em;position: relative;}#sk-container-id-3 div.sk-item {position: relative;z-index: 1;}#sk-container-id-3 div.sk-parallel {display: flex;align-items: stretch;justify-content: center;background-color: white;position: relative;}#sk-container-id-3 div.sk-item::before, #sk-container-id-3 div.sk-parallel-item::before {content: \"\";position: absolute;border-left: 1px solid gray;box-sizing: border-box;top: 0;bottom: 0;left: 50%;z-index: -1;}#sk-container-id-3 div.sk-parallel-item {display: flex;flex-direction: column;z-index: 1;position: relative;background-color: white;}#sk-container-id-3 div.sk-parallel-item:first-child::after {align-self: flex-end;width: 50%;}#sk-container-id-3 div.sk-parallel-item:last-child::after {align-self: flex-start;width: 50%;}#sk-container-id-3 div.sk-parallel-item:only-child::after {width: 0;}#sk-container-id-3 div.sk-dashed-wrapped {border: 1px dashed gray;margin: 0 0.4em 0.5em 0.4em;box-sizing: border-box;padding-bottom: 0.4em;background-color: white;}#sk-container-id-3 div.sk-label label {font-family: monospace;font-weight: bold;display: inline-block;line-height: 1.2em;}#sk-container-id-3 div.sk-label-container {text-align: center;}#sk-container-id-3 div.sk-container {/* jupyter's `normalize.less` sets `[hidden] { display: none; }` but bootstrap.min.css set `[hidden] { display: none !important; }` so we also need the `!important` here to be able to override the default hidden behavior on the sphinx rendered scikit-learn.org. See: https://github.com/scikit-learn/scikit-learn/issues/21755 */display: inline-block !important;position: relative;}#sk-container-id-3 div.sk-text-repr-fallback {display: none;}</style><div id=\"sk-container-id-3\" class=\"sk-top-container\"><div class=\"sk-text-repr-fallback\"><pre>XGBClassifier(base_score=None, booster=None, callbacks=None,\n",
       "              colsample_bylevel=None, colsample_bynode=None,\n",
       "              colsample_bytree=None, early_stopping_rounds=None,\n",
       "              enable_categorical=False, eval_metric=None, feature_types=None,\n",
       "              gamma=None, gpu_id=None, grow_policy=None, importance_type=None,\n",
       "              interaction_constraints=None, learning_rate=0.01, max_bin=None,\n",
       "              max_cat_threshold=None, max_cat_to_onehot=None,\n",
       "              max_delta_step=None, max_depth=7, max_leaves=None,\n",
       "              min_child_weight=None, missing=nan, monotone_constraints=None,\n",
       "              n_estimators=100, n_jobs=None, num_parallel_tree=None,\n",
       "              predictor=None, random_state=None, ...)</pre><b>In a Jupyter environment, please rerun this cell to show the HTML representation or trust the notebook. <br />On GitHub, the HTML representation is unable to render, please try loading this page with nbviewer.org.</b></div><div class=\"sk-container\" hidden><div class=\"sk-item\"><div class=\"sk-estimator sk-toggleable\"><input class=\"sk-toggleable__control sk-hidden--visually\" id=\"sk-estimator-id-3\" type=\"checkbox\" checked><label for=\"sk-estimator-id-3\" class=\"sk-toggleable__label sk-toggleable__label-arrow\">XGBClassifier</label><div class=\"sk-toggleable__content\"><pre>XGBClassifier(base_score=None, booster=None, callbacks=None,\n",
       "              colsample_bylevel=None, colsample_bynode=None,\n",
       "              colsample_bytree=None, early_stopping_rounds=None,\n",
       "              enable_categorical=False, eval_metric=None, feature_types=None,\n",
       "              gamma=None, gpu_id=None, grow_policy=None, importance_type=None,\n",
       "              interaction_constraints=None, learning_rate=0.01, max_bin=None,\n",
       "              max_cat_threshold=None, max_cat_to_onehot=None,\n",
       "              max_delta_step=None, max_depth=7, max_leaves=None,\n",
       "              min_child_weight=None, missing=nan, monotone_constraints=None,\n",
       "              n_estimators=100, n_jobs=None, num_parallel_tree=None,\n",
       "              predictor=None, random_state=None, ...)</pre></div></div></div></div></div>"
      ],
      "text/plain": [
       "XGBClassifier(base_score=None, booster=None, callbacks=None,\n",
       "              colsample_bylevel=None, colsample_bynode=None,\n",
       "              colsample_bytree=None, early_stopping_rounds=None,\n",
       "              enable_categorical=False, eval_metric=None, feature_types=None,\n",
       "              gamma=None, gpu_id=None, grow_policy=None, importance_type=None,\n",
       "              interaction_constraints=None, learning_rate=0.01, max_bin=None,\n",
       "              max_cat_threshold=None, max_cat_to_onehot=None,\n",
       "              max_delta_step=None, max_depth=7, max_leaves=None,\n",
       "              min_child_weight=None, missing=nan, monotone_constraints=None,\n",
       "              n_estimators=100, n_jobs=None, num_parallel_tree=None,\n",
       "              predictor=None, random_state=None, ...)"
      ]
     },
     "execution_count": 75,
     "metadata": {},
     "output_type": "execute_result"
    }
   ],
   "source": [
    "rewards = [0] * len(param_space)\n",
    "attempts = [0] * len(param_space)\n",
    "best_config = None\n",
    "best_score = 0\n",
    "max_iterations = 30\n",
    "\n",
    "for t in range(1, max_iterations + 1):\n",
    "    # Select hyperparameters using UCB algorithm\n",
    "    config_idx = ucb_selection(rewards, attempts, t)\n",
    "    print(\"config_idx:\", config_idx)  # Added print statement\n",
    "    config = param_space[config_idx]\n",
    "\n",
    "    # Train and evaluate the model with the selected hyperparameters\n",
    "    print(\"config:\", config)  # Added print statement\n",
    "    model.set_params(**config)\n",
    "    model.fit(X_train, y_train)\n",
    "    \n",
    "    # Evaluate performance on multiple metrics using cross-validation\n",
    "    metrics = {\n",
    "        'accuracy': cross_val_score(model, X_trainval, y_trainval, cv=5),\n",
    "        'precision': cross_val_score(model, X_trainval, y_trainval, cv=5, scoring='precision'),\n",
    "        'recall': cross_val_score(model, X_trainval, y_trainval, cv=5, scoring='recall'),\n",
    "        'f1': cross_val_score(model, X_trainval, y_trainval, cv=5, scoring='f1'),\n",
    "        'roc_auc': cross_val_score(model, X_trainval, y_trainval, cv=5, scoring='roc_auc')\n",
    "    }\n",
    "    \n",
    "    # Calculate mean performance scores across all metrics\n",
    "    score = np.mean(list(metrics.values()))\n",
    "    \n",
    "    # Update rewards and attempts\n",
    "    rewards[config_idx] += score\n",
    "    attempts[config_idx] += 1\n",
    "    \n",
    "    # Track the best hyperparameter configuration and score\n",
    "    if score > best_score:\n",
    "        best_config = config\n",
    "        best_score = score\n",
    "\n",
    "# Train the final model using the best hyperparameters\n",
    "model.set_params(**best_config)\n",
    "model.fit(X_trainval, y_trainval)"
   ]
  },
  {
   "attachments": {},
   "cell_type": "markdown",
   "metadata": {},
   "source": [
    "## Evaluate the final model on the test set"
   ]
  },
  {
   "cell_type": "code",
   "execution_count": 76,
   "metadata": {},
   "outputs": [],
   "source": [
    "test_predictions = model.predict(X_test)\n",
    "test_accuracy = accuracy_score(y_test, test_predictions)\n",
    "test_precision = precision_score(y_test, test_predictions)\n",
    "test_recall = recall_score(y_test, test_predictions)\n",
    "test_f1 = f1_score(y_test, test_predictions)\n",
    "test_roc_auc = roc_auc_score(y_test, model.predict_proba(X_test)[:, 1])"
   ]
  },
  {
   "attachments": {},
   "cell_type": "markdown",
   "metadata": {},
   "source": [
    "### Comparison with Random Strategy: Implement the random strategy for hyperparameter selection and compare its performance with the UCB algorithm."
   ]
  },
  {
   "cell_type": "code",
   "execution_count": 77,
   "metadata": {},
   "outputs": [
    {
     "data": {
      "text/html": [
       "<style>#sk-container-id-4 {color: black;background-color: white;}#sk-container-id-4 pre{padding: 0;}#sk-container-id-4 div.sk-toggleable {background-color: white;}#sk-container-id-4 label.sk-toggleable__label {cursor: pointer;display: block;width: 100%;margin-bottom: 0;padding: 0.3em;box-sizing: border-box;text-align: center;}#sk-container-id-4 label.sk-toggleable__label-arrow:before {content: \"▸\";float: left;margin-right: 0.25em;color: #696969;}#sk-container-id-4 label.sk-toggleable__label-arrow:hover:before {color: black;}#sk-container-id-4 div.sk-estimator:hover label.sk-toggleable__label-arrow:before {color: black;}#sk-container-id-4 div.sk-toggleable__content {max-height: 0;max-width: 0;overflow: hidden;text-align: left;background-color: #f0f8ff;}#sk-container-id-4 div.sk-toggleable__content pre {margin: 0.2em;color: black;border-radius: 0.25em;background-color: #f0f8ff;}#sk-container-id-4 input.sk-toggleable__control:checked~div.sk-toggleable__content {max-height: 200px;max-width: 100%;overflow: auto;}#sk-container-id-4 input.sk-toggleable__control:checked~label.sk-toggleable__label-arrow:before {content: \"▾\";}#sk-container-id-4 div.sk-estimator input.sk-toggleable__control:checked~label.sk-toggleable__label {background-color: #d4ebff;}#sk-container-id-4 div.sk-label input.sk-toggleable__control:checked~label.sk-toggleable__label {background-color: #d4ebff;}#sk-container-id-4 input.sk-hidden--visually {border: 0;clip: rect(1px 1px 1px 1px);clip: rect(1px, 1px, 1px, 1px);height: 1px;margin: -1px;overflow: hidden;padding: 0;position: absolute;width: 1px;}#sk-container-id-4 div.sk-estimator {font-family: monospace;background-color: #f0f8ff;border: 1px dotted black;border-radius: 0.25em;box-sizing: border-box;margin-bottom: 0.5em;}#sk-container-id-4 div.sk-estimator:hover {background-color: #d4ebff;}#sk-container-id-4 div.sk-parallel-item::after {content: \"\";width: 100%;border-bottom: 1px solid gray;flex-grow: 1;}#sk-container-id-4 div.sk-label:hover label.sk-toggleable__label {background-color: #d4ebff;}#sk-container-id-4 div.sk-serial::before {content: \"\";position: absolute;border-left: 1px solid gray;box-sizing: border-box;top: 0;bottom: 0;left: 50%;z-index: 0;}#sk-container-id-4 div.sk-serial {display: flex;flex-direction: column;align-items: center;background-color: white;padding-right: 0.2em;padding-left: 0.2em;position: relative;}#sk-container-id-4 div.sk-item {position: relative;z-index: 1;}#sk-container-id-4 div.sk-parallel {display: flex;align-items: stretch;justify-content: center;background-color: white;position: relative;}#sk-container-id-4 div.sk-item::before, #sk-container-id-4 div.sk-parallel-item::before {content: \"\";position: absolute;border-left: 1px solid gray;box-sizing: border-box;top: 0;bottom: 0;left: 50%;z-index: -1;}#sk-container-id-4 div.sk-parallel-item {display: flex;flex-direction: column;z-index: 1;position: relative;background-color: white;}#sk-container-id-4 div.sk-parallel-item:first-child::after {align-self: flex-end;width: 50%;}#sk-container-id-4 div.sk-parallel-item:last-child::after {align-self: flex-start;width: 50%;}#sk-container-id-4 div.sk-parallel-item:only-child::after {width: 0;}#sk-container-id-4 div.sk-dashed-wrapped {border: 1px dashed gray;margin: 0 0.4em 0.5em 0.4em;box-sizing: border-box;padding-bottom: 0.4em;background-color: white;}#sk-container-id-4 div.sk-label label {font-family: monospace;font-weight: bold;display: inline-block;line-height: 1.2em;}#sk-container-id-4 div.sk-label-container {text-align: center;}#sk-container-id-4 div.sk-container {/* jupyter's `normalize.less` sets `[hidden] { display: none; }` but bootstrap.min.css set `[hidden] { display: none !important; }` so we also need the `!important` here to be able to override the default hidden behavior on the sphinx rendered scikit-learn.org. See: https://github.com/scikit-learn/scikit-learn/issues/21755 */display: inline-block !important;position: relative;}#sk-container-id-4 div.sk-text-repr-fallback {display: none;}</style><div id=\"sk-container-id-4\" class=\"sk-top-container\"><div class=\"sk-text-repr-fallback\"><pre>XGBClassifier(base_score=None, booster=None, callbacks=None,\n",
       "              colsample_bylevel=None, colsample_bynode=None,\n",
       "              colsample_bytree=None, early_stopping_rounds=None,\n",
       "              enable_categorical=False, eval_metric=None, feature_types=None,\n",
       "              gamma=None, gpu_id=None, grow_policy=None, importance_type=None,\n",
       "              interaction_constraints=None, learning_rate=0.2, max_bin=None,\n",
       "              max_cat_threshold=None, max_cat_to_onehot=None,\n",
       "              max_delta_step=None, max_depth=7, max_leaves=None,\n",
       "              min_child_weight=None, missing=nan, monotone_constraints=None,\n",
       "              n_estimators=200, n_jobs=None, num_parallel_tree=None,\n",
       "              predictor=None, random_state=None, ...)</pre><b>In a Jupyter environment, please rerun this cell to show the HTML representation or trust the notebook. <br />On GitHub, the HTML representation is unable to render, please try loading this page with nbviewer.org.</b></div><div class=\"sk-container\" hidden><div class=\"sk-item\"><div class=\"sk-estimator sk-toggleable\"><input class=\"sk-toggleable__control sk-hidden--visually\" id=\"sk-estimator-id-4\" type=\"checkbox\" checked><label for=\"sk-estimator-id-4\" class=\"sk-toggleable__label sk-toggleable__label-arrow\">XGBClassifier</label><div class=\"sk-toggleable__content\"><pre>XGBClassifier(base_score=None, booster=None, callbacks=None,\n",
       "              colsample_bylevel=None, colsample_bynode=None,\n",
       "              colsample_bytree=None, early_stopping_rounds=None,\n",
       "              enable_categorical=False, eval_metric=None, feature_types=None,\n",
       "              gamma=None, gpu_id=None, grow_policy=None, importance_type=None,\n",
       "              interaction_constraints=None, learning_rate=0.2, max_bin=None,\n",
       "              max_cat_threshold=None, max_cat_to_onehot=None,\n",
       "              max_delta_step=None, max_depth=7, max_leaves=None,\n",
       "              min_child_weight=None, missing=nan, monotone_constraints=None,\n",
       "              n_estimators=200, n_jobs=None, num_parallel_tree=None,\n",
       "              predictor=None, random_state=None, ...)</pre></div></div></div></div></div>"
      ],
      "text/plain": [
       "XGBClassifier(base_score=None, booster=None, callbacks=None,\n",
       "              colsample_bylevel=None, colsample_bynode=None,\n",
       "              colsample_bytree=None, early_stopping_rounds=None,\n",
       "              enable_categorical=False, eval_metric=None, feature_types=None,\n",
       "              gamma=None, gpu_id=None, grow_policy=None, importance_type=None,\n",
       "              interaction_constraints=None, learning_rate=0.2, max_bin=None,\n",
       "              max_cat_threshold=None, max_cat_to_onehot=None,\n",
       "              max_delta_step=None, max_depth=7, max_leaves=None,\n",
       "              min_child_weight=None, missing=nan, monotone_constraints=None,\n",
       "              n_estimators=200, n_jobs=None, num_parallel_tree=None,\n",
       "              predictor=None, random_state=None, ...)"
      ]
     },
     "execution_count": 77,
     "metadata": {},
     "output_type": "execute_result"
    }
   ],
   "source": [
    "random_config = random.choice(param_space)\n",
    "model.set_params(**random_config)\n",
    "model.fit(X_trainval, y_trainval)"
   ]
  },
  {
   "attachments": {},
   "cell_type": "markdown",
   "metadata": {},
   "source": [
    "## Evaluate the model selected by random strategy on the test set"
   ]
  },
  {
   "cell_type": "code",
   "execution_count": 78,
   "metadata": {},
   "outputs": [],
   "source": [
    "random_test_predictions = model.predict(X_test)\n",
    "random_test_accuracy = accuracy_score(y_test, random_test_predictions)\n",
    "random_test_precision = precision_score(y_test, random_test_predictions)\n",
    "random_test_recall = recall_score(y_test, random_test_predictions)\n",
    "random_test_f1 = f1_score(y_test, random_test_predictions)\n",
    "random_test_roc_auc = roc_auc_score(y_test, model.predict_proba(X_test)[:, 1])"
   ]
  },
  {
   "attachments": {},
   "cell_type": "markdown",
   "metadata": {},
   "source": [
    "## Results and Evaluation: Present the results, including the dataset, UCB algorithm implementation, and performance comparison between UCB and random.\n"
   ]
  },
  {
   "cell_type": "code",
   "execution_count": 79,
   "metadata": {},
   "outputs": [
    {
     "name": "stdout",
     "output_type": "stream",
     "text": [
      "Dataset: Titanic Dataset\n",
      "\n",
      "UCB-selected hyperparameters:  {'learning_rate': 0.01, 'n_estimators': 100, 'max_depth': 7, 'reg_alpha': 0.1}\n",
      "UCB-selected performance:\n",
      "  - Accuracy: 0.7938931297709924\n",
      "  - Precision: 0.8809523809523809\n",
      "  - Recall: 0.6271186440677966\n",
      "  - F1-score: 0.7326732673267327\n",
      "  - ROC AUC: 0.8694091337099811\n",
      "\n",
      "Random-selected hyperparameters:  {'learning_rate': 0.2, 'n_estimators': 200, 'max_depth': 7, 'reg_alpha': 0}\n",
      "Random-selected performance:\n",
      "  - Accuracy: 0.7862595419847328\n",
      "  - Precision: 0.7924528301886793\n",
      "  - Recall: 0.711864406779661\n",
      "  - F1-score: 0.75\n",
      "  - ROC AUC: 0.857962570621469\n"
     ]
    }
   ],
   "source": [
    "print(\"Dataset: Titanic Dataset\")\n",
    "print(\"\\nUCB-selected hyperparameters: \", best_config)\n",
    "print(\"UCB-selected performance:\")\n",
    "print(f\"  - Accuracy: {test_accuracy}\")\n",
    "print(f\"  - Precision: {test_precision}\")\n",
    "print(f\"  - Recall: {test_recall}\")\n",
    "print(f\"  - F1-score: {test_f1}\")\n",
    "print(f\"  - ROC AUC: {test_roc_auc}\")\n",
    "\n",
    "print(\"\\nRandom-selected hyperparameters: \", random_config)\n",
    "print(\"Random-selected performance:\")\n",
    "print(f\"  - Accuracy: {random_test_accuracy}\")\n",
    "print(f\"  - Precision: {random_test_precision}\")\n",
    "print(f\"  - Recall: {random_test_recall}\")\n",
    "print(f\"  - F1-score: {random_test_f1}\")\n",
    "print(f\"  - ROC AUC: {random_test_roc_auc}\")"
   ]
  },
  {
   "attachments": {},
   "cell_type": "markdown",
   "metadata": {},
   "source": [
    "## Visualization: Plotting the performance metrics for different hyperparameter configurations\n"
   ]
  }
 ],
 "metadata": {
  "kernelspec": {
   "display_name": ".venv",
   "language": "python",
   "name": "python3"
  },
  "language_info": {
   "codemirror_mode": {
    "name": "ipython",
    "version": 3
   },
   "file_extension": ".py",
   "mimetype": "text/x-python",
   "name": "python",
   "nbconvert_exporter": "python",
   "pygments_lexer": "ipython3",
   "version": "3.11.1"
  },
  "orig_nbformat": 4
 },
 "nbformat": 4,
 "nbformat_minor": 2
}
